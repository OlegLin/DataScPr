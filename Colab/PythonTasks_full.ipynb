{
  "cells": [
    {
      "cell_type": "markdown",
      "metadata": {
        "id": "p4-eNE9It2iP"
      },
      "source": [
        "# Семинар 0\n",
        "## Повторение Python"
      ]
    },
    {
      "cell_type": "markdown",
      "metadata": {
        "id": "37c6eff3"
      },
      "source": [
        "---\n",
        "\n",
        "### Задача 1: Обменный курс\n",
        "\n",
        "В одном тугрике 17 чогриков, а в одном чогрике 13 песо. Определите, на какое число тугриков и чогриков можно разменять n песо, если провести все возможные разменные операции?\n",
        "\n",
        "&nbsp;\n",
        "\n",
        "#### **Формат входных данных:** \n",
        "\n",
        "* Натурально число n – количество песо.\n",
        "\n",
        "#### **Формат выходных данных:** \n",
        "\n",
        "* Три натуральных числа, разделенные пробелом: число тугриков, число чогриков, число оставшихся песо.\n",
        "\n",
        "&nbsp;\n",
        "&nbsp;\n",
        "&nbsp;\n",
        "&nbsp;\n",
        "\n",
        "---\n",
        "\n",
        "#### **Пример входа:**\n",
        "\n",
        "40\n",
        "\n",
        "#### **Результат работы:**\n",
        "\n",
        "0 3 1\n",
        "\n",
        "---\n",
        "\n",
        "#### **Пример входа:**\n",
        "\n",
        "1300\n",
        "\n",
        "#### **Результат работы:**\n",
        "\n",
        "5 15 0\n",
        "\n",
        "---"
      ]
    },
    {
      "cell_type": "code",
      "execution_count": null,
      "metadata": {
        "id": "lnSqh9ZsxOTi"
      },
      "outputs": [],
      "source": [
        "# Примеры ввода\n",
        "\n",
        "example_1_1 = 40\n",
        "example_1_2 = 1300"
      ]
    },
    {
      "cell_type": "code",
      "execution_count": null,
      "metadata": {
        "colab": {
          "base_uri": "https://localhost:8080/"
        },
        "id": "NZij6nz7Cox4",
        "outputId": "1a3ed2a3-c6c3-4024-9b1c-8cb07e2b4b73"
      },
      "outputs": [
        {
          "name": "stdout",
          "output_type": "stream",
          "text": [
            "40\n"
          ]
        }
      ],
      "source": [
        "print(f\"{example_1_1}\")"
      ]
    },
    {
      "cell_type": "code",
      "execution_count": null,
      "metadata": {
        "colab": {
          "base_uri": "https://localhost:8080/"
        },
        "id": "BL3xH3NMCvBF",
        "outputId": "27c4fb1e-c52d-485f-f536-1978959615a9"
      },
      "outputs": [
        {
          "name": "stdout",
          "output_type": "stream",
          "text": [
            "google-api-python-client      1.12.11\n",
            "ipython                       7.9.0\n",
            "ipython-genutils              0.2.0\n",
            "ipython-sql                   0.3.9\n",
            "opencv-contrib-python         4.6.0.66\n",
            "opencv-python                 4.6.0.66\n",
            "opencv-python-headless        4.6.0.66\n",
            "python-apt                    0.0.0\n",
            "python-chess                  0.23.11\n",
            "python-dateutil               2.8.2\n",
            "python-louvain                0.16\n",
            "python-slugify                6.1.2\n",
            "python-utils                  3.3.3\n"
          ]
        }
      ],
      "source": [
        "!pip list | grep python"
      ]
    },
    {
      "cell_type": "code",
      "execution_count": null,
      "metadata": {
        "colab": {
          "base_uri": "https://localhost:8080/"
        },
        "id": "PS_kADMN8Iwn",
        "outputId": "a205be74-2f5f-486e-f3ef-0c94147baffb"
      },
      "outputs": [
        {
          "name": "stdout",
          "output_type": "stream",
          "text": [
            "1300\n",
            "5 15 0\n"
          ]
        }
      ],
      "source": [
        "# Решение \n",
        "\n",
        "n = int(input())\n",
        "print(f'{n // 13 // 17} {n // 13 % 17 } {n % 13}')"
      ]
    },
    {
      "cell_type": "markdown",
      "metadata": {
        "id": "oBlG_KmpS0z8"
      },
      "source": [
        "---\n",
        "\n",
        "### Задача 2: Повторение мать учения \n",
        "\n",
        "В программе задан список `lst` (вида `[0, 1, 2, ...]`). На вход программе подаются три целых числа `insert_index`, `number_to_insert`, `number_insertions`, каждое на отдельной строке. Вставьте в список `lst` число `number_to_insert` на позицию `insert_index` `number_insertions` раз.\n",
        "\n",
        "&nbsp;\n",
        "\n",
        "#### **Формат входных данных:**\n",
        "* Три натуральных числа, в одной строке через пробел: `insert_index`, `number_to_insert`, `number_insertions`.\n",
        "\n",
        "#### **Формат выходных данных:**\n",
        "* Изначальный список с учетом внесенных изменений.\n",
        "\n",
        "&nbsp;\n",
        "\n",
        "---\n",
        "\n",
        "#### **Пример входа:**\n",
        "5  6  6\n",
        "\n",
        "#### **Результат работы:**\n",
        "[0, 1, 2, 3, 4, 6, 6, 6, 6, 6, 6, 5, 6, 7, 8, 9]\n",
        "\n",
        "---\n"
      ]
    },
    {
      "cell_type": "code",
      "execution_count": null,
      "metadata": {
        "id": "903RwSJPVQ3k"
      },
      "outputs": [],
      "source": [
        "# Стартовый код\n",
        "\n",
        "lst = [0, 1, 2, 3, 4, 5, 6, 7, 8, 9]"
      ]
    },
    {
      "cell_type": "code",
      "execution_count": null,
      "metadata": {
        "id": "ue7XbYFYxcjP"
      },
      "outputs": [],
      "source": [
        "# Примеры ввода\n",
        "\n",
        "example_2_1 = \"5 6 6\""
      ]
    },
    {
      "cell_type": "code",
      "execution_count": null,
      "metadata": {
        "colab": {
          "background_save": true
        },
        "id": "EyahQsUdTlXc",
        "outputId": "adec3cfd-596c-4777-bc74-f04216b8aff6"
      },
      "outputs": [
        {
          "ename": "NameError",
          "evalue": "ignored",
          "output_type": "error",
          "traceback": [
            "\u001b[0;31m---------------------------------------------------------------------------\u001b[0m",
            "\u001b[0;31mNameError\u001b[0m                                 Traceback (most recent call last)",
            "\u001b[0;32m<ipython-input-3-72c33862af13>\u001b[0m in \u001b[0;36m<module>\u001b[0;34m\u001b[0m\n\u001b[1;32m      3\u001b[0m \u001b[0minsert_index\u001b[0m\u001b[0;34m,\u001b[0m \u001b[0mnumber_to_insert\u001b[0m\u001b[0;34m,\u001b[0m \u001b[0mnumber_insertions\u001b[0m \u001b[0;34m=\u001b[0m \u001b[0mlist\u001b[0m\u001b[0;34m(\u001b[0m\u001b[0mmap\u001b[0m\u001b[0;34m(\u001b[0m\u001b[0mint\u001b[0m\u001b[0;34m,\u001b[0m \u001b[0minput\u001b[0m\u001b[0;34m(\u001b[0m\u001b[0;34m)\u001b[0m\u001b[0;34m.\u001b[0m\u001b[0msplit\u001b[0m\u001b[0;34m(\u001b[0m\u001b[0;34m)\u001b[0m\u001b[0;34m)\u001b[0m\u001b[0;34m)\u001b[0m\u001b[0;34m\u001b[0m\u001b[0;34m\u001b[0m\u001b[0m\n\u001b[1;32m      4\u001b[0m \u001b[0;32mfor\u001b[0m \u001b[0mi\u001b[0m \u001b[0;32min\u001b[0m \u001b[0mrange\u001b[0m\u001b[0;34m(\u001b[0m\u001b[0mnumber_insertions\u001b[0m\u001b[0;34m)\u001b[0m\u001b[0;34m:\u001b[0m\u001b[0;34m\u001b[0m\u001b[0;34m\u001b[0m\u001b[0m\n\u001b[0;32m----> 5\u001b[0;31m   \u001b[0mlst\u001b[0m\u001b[0;34m.\u001b[0m\u001b[0minsert\u001b[0m\u001b[0;34m(\u001b[0m\u001b[0minsert_index\u001b[0m\u001b[0;34m,\u001b[0m \u001b[0mnumber_to_insert\u001b[0m\u001b[0;34m)\u001b[0m\u001b[0;34m\u001b[0m\u001b[0;34m\u001b[0m\u001b[0m\n\u001b[0m\u001b[1;32m      6\u001b[0m \u001b[0mprint\u001b[0m\u001b[0;34m(\u001b[0m\u001b[0mlst\u001b[0m\u001b[0;34m)\u001b[0m\u001b[0;34m\u001b[0m\u001b[0;34m\u001b[0m\u001b[0m\n",
            "\u001b[0;31mNameError\u001b[0m: name 'lst' is not defined"
          ]
        }
      ],
      "source": [
        "# Решение\n",
        "\n",
        "insert_index, number_to_insert, number_insertions = list(map(int, input().split()))\n",
        "for i in range(number_insertions):\n",
        "  lst.insert(insert_index, number_to_insert)\n",
        "print(lst)"
      ]
    },
    {
      "cell_type": "markdown",
      "metadata": {
        "id": "323k-p-mZSxF"
      },
      "source": [
        "---\n",
        "\n",
        "### Задача 3: Разворот\n",
        "\n",
        "Используя метод `pop`, создайте и выведите на экран список в обратном порядке.\n",
        "\n",
        "&nbsp;\n",
        "\n",
        "#### **Формат входных данных:**\n",
        "* 10 чисел в виде строки, разделенные пробелами.\n",
        "\n",
        "#### **Формат выходных данных:**\n",
        "* Список (list) чисел, полученных на входе, но в обратом порядке.\n",
        "\n",
        "&nbsp;\n",
        "\n",
        "---\n",
        "\n",
        "#### **Пример входа:**\n",
        "1 2 3 4 5 6 7 8 9 10\n",
        "\n",
        "#### **Результат работы:**\n",
        "[10, 9, 8, 7, 6, 5, 4, 3, 2, 1]\n",
        "\n",
        "---\n"
      ]
    },
    {
      "cell_type": "code",
      "execution_count": null,
      "metadata": {
        "id": "W0GsPscokOE0"
      },
      "outputs": [],
      "source": [
        "# Примеры ввода\n",
        "\n",
        "example_3_1 = \"1 2 3 4 5 6 7 8 9 10\""
      ]
    },
    {
      "cell_type": "code",
      "execution_count": null,
      "metadata": {
        "id": "T4BnCi5qai91"
      },
      "outputs": [],
      "source": [
        "# Решение\n",
        "\n",
        "lst = list(map(int, input().split()))\n",
        "rev_lst = []\n",
        "while len(lst) > 0:\n",
        "  rev_lst.append(lst.pop())\n",
        "print(rev_lst)"
      ]
    },
    {
      "cell_type": "markdown",
      "metadata": {
        "id": "jzJOQyd3a54-"
      },
      "source": [
        "---\n",
        "\n",
        "### Задача 4: Начало и конец\n",
        "\n",
        "Среди всех вхождений элемента в список найдите то, которое расположено ближе всего к началу, либо к концу списка. Если искомое вхождение равноудалено от начала и конца, выведите индекс, который ближе к началу. Если элемента в списке нет, выведите -1.\n",
        "\n",
        "&nbsp;\n",
        "\n",
        "#### **Формат входных данных:**\n",
        "* Первая строка : элемент, индекс которого нужно найти. Вторая строка : список из чисел разделенных пробелами.\n",
        "\n",
        "#### **Формат выходных данных:**\n",
        "* Искомый индекс.\n",
        "\n",
        "&nbsp;\n",
        "\n",
        "---\n",
        "\n",
        "#### **Пример входа:**\n",
        "5\n",
        "\n",
        "1 5 3 4 5\n",
        "\n",
        "#### **Результат работы:**\n",
        "4\n",
        "\n",
        "---\n",
        "\n",
        "#### **Пример входа:**\n",
        "2\n",
        "\n",
        "1 2 3 2 2 5 6 6 \n",
        "\n",
        "#### **Результат работы:**\n",
        "1\n",
        "\n",
        "---"
      ]
    },
    {
      "cell_type": "code",
      "execution_count": null,
      "metadata": {
        "id": "2BEhvUEGAVzT"
      },
      "outputs": [],
      "source": [
        "# Примеры ввода\n",
        "\n",
        "example_4_1 = (\"5\", \"1 2 3 4 5\")\n",
        "example_4_2 = (\"2\", \"1 2 3 2 2 5 6 6\")"
      ]
    },
    {
      "cell_type": "code",
      "execution_count": null,
      "metadata": {
        "colab": {
          "base_uri": "https://localhost:8080/"
        },
        "id": "bpvNweLkeVzf",
        "outputId": "d0ed4ef7-56e5-4cb4-962c-0352bcbafee1"
      },
      "outputs": [
        {
          "name": "stdout",
          "output_type": "stream",
          "text": [
            "5\n",
            "1 2 3 4 5\n",
            "4\n"
          ]
        }
      ],
      "source": [
        "# Решение\n",
        "\n",
        "element = int(input())\n",
        "lst = list(map(int, input().split()))\n",
        "if element not in lst:\n",
        "  print(-1)\n",
        "else:\n",
        "  start_index = lst.index(element)\n",
        "  end_index = lst[::-1].index(element)\n",
        "  if start_index <= end_index :\n",
        "    print(start_index)\n",
        "  else:\n",
        "    print(len(lst) - end_index - 1)"
      ]
    },
    {
      "cell_type": "markdown",
      "metadata": {
        "id": "FBPqwjktXG_H"
      },
      "source": [
        "---\n",
        "\n",
        "### Задача 5: Маленькие делители\n",
        "Напишите функцию, которая берет на вход два числа, и возвращает все делители первого числа, которые не превосходят второе.\n",
        "\n",
        "&nbsp;\n",
        "\n",
        "#### **Формат входных данных:**\n",
        "* Два натуральных числа, разделенные пробелом.\n",
        "\n",
        "#### **Формат выходных данных:**\n",
        "* Список делителей, удовлетворяющих условию.\n",
        "\n",
        "&nbsp;\n",
        "\n",
        "---\n",
        "\n",
        "#### **Пример входа:**\n",
        "10 6\n",
        "\n",
        "#### **Результат работы:**\n",
        "[1, 2, 5]\n",
        "\n",
        "---\n",
        "\n",
        "#### **Пример входа:**\n",
        "13 2\n",
        "\n",
        "#### **Результат работы:**\n",
        "[1]\n",
        "\n",
        "---"
      ]
    },
    {
      "cell_type": "code",
      "execution_count": null,
      "metadata": {
        "id": "QCShWMaJe7KZ"
      },
      "outputs": [],
      "source": [
        "# Примеры ввода\n",
        "\n",
        "example_5_1 = \"10 6\"\n",
        "example_5_2 = \"13 2\""
      ]
    },
    {
      "cell_type": "code",
      "execution_count": null,
      "metadata": {
        "id": "IO0_izoIe7Q6"
      },
      "outputs": [],
      "source": [
        "# Решение\n",
        "\n",
        "def find_divisors(a, b):\n",
        "  return [x for x in range(1, b+1) if a % x == 0]\n",
        "\n",
        "a, b = list(map(int, input().split()))\n",
        "\n",
        "print(find_divisors(a, b))"
      ]
    },
    {
      "cell_type": "markdown",
      "metadata": {
        "id": "C8dgFNafSyAs"
      },
      "source": [
        "---\n",
        "\n",
        "### Задача 6: Разбиение на группы\n",
        "Программе подается на вход список целых чисел и число `group_size`. Программа должна определить, можно ли полученный список разделить на группы размера `group_size` так, чтобы в каждой группе все элементы были одинаковы. \n",
        "\n",
        "&nbsp;\n",
        "\n",
        "#### **Формат входных данных:**\n",
        "* В первой строке программа получает на вход список из целых чисел, разделенных пробелом. Во второй строке программа получает натуральное число `group_size`.\n",
        "\n",
        "#### **Формат выходных данных:**\n",
        "* Программа должна вывести True или False. \n",
        "\n",
        "&nbsp;\n",
        "\n",
        "---\n",
        "\n",
        "#### **Пример входа:**\n",
        "2 2 3 3 5 2 2\n",
        "\n",
        "2\n",
        "\n",
        "#### **Результат работы:**\n",
        "False\n",
        "\n",
        "---\n",
        "\n",
        "#### **Пример входа:**\n",
        "2 1 5 3 5 5 3 3 1 2 1 2\n",
        "\n",
        "3\n",
        "\n",
        "#### **Результат работы:**\n",
        "True\n",
        "\n",
        "---"
      ]
    },
    {
      "cell_type": "code",
      "execution_count": null,
      "metadata": {
        "id": "tq8knDI01Q4g"
      },
      "outputs": [],
      "source": [
        "# Примеры ввода\n",
        "\n",
        "example_6_1 = \"2 2 3 3 5 2 2\"\n",
        "example_6_2 = \"2 1 5 3 5 5 3 3 1 2 1 2\""
      ]
    },
    {
      "cell_type": "code",
      "execution_count": null,
      "metadata": {
        "id": "dPhd-uYlcRa3"
      },
      "outputs": [],
      "source": [
        "# Решение\n",
        "\n",
        "lst = list(map(int, input().split()))\n",
        "group_size = int(input())\n",
        "\n",
        "d = {}\n",
        "for n in lst:\n",
        "    if n in d.keys():\n",
        "        d[n] += 1\n",
        "    else:\n",
        "        d[n] = 1\n",
        "\n",
        "print(all([x % group_size == 0 for x in d.values()]))"
      ]
    },
    {
      "cell_type": "markdown",
      "metadata": {
        "id": "ykJexr0pfmNP"
      },
      "source": [
        "---\n",
        "\n",
        "### Задача 7: Каждый на своем месте \n",
        "Выведите элементы списка, индекс которых в отсортированном по возрастанию списке не меньше, чем их значение.\n",
        "\n",
        "&nbsp;\n",
        "\n",
        "#### **Формат входных данных:**\n",
        "* Список из целых чисел, разделенных пробелом.\n",
        "\n",
        "#### **Формат выходных данных:**\n",
        "* Список подходящих элементов.\n",
        "\n",
        "&nbsp;\n",
        "\n",
        "---\n",
        "\n",
        "#### **Пример входа:**\n",
        "1 2 3 4 5\n",
        "\n",
        "#### **Результат работы:**\n",
        "[]\n",
        "\n",
        "---\n",
        "\n",
        "#### **Пример входа:**\n",
        "9 2 1 50 8 -1\n",
        "\n",
        "#### **Результат работы:**\n",
        "[-1, 1, 2] \n",
        "\n",
        "---"
      ]
    },
    {
      "cell_type": "code",
      "execution_count": null,
      "metadata": {
        "id": "n6Y32_9OkJFl"
      },
      "outputs": [],
      "source": [
        "# Примеры ввода\n",
        "\n",
        "example_7_1 = \"1 2 3 4 5\"\n",
        "example_7_2 = \"9 2 1 50 8 -1\""
      ]
    },
    {
      "cell_type": "code",
      "execution_count": null,
      "metadata": {
        "id": "9cHolLFdhFKX"
      },
      "outputs": [],
      "source": [
        "# Решение\n",
        "\n",
        "lst = list(map(int, input().split()))\n",
        "\n",
        "elements = []\n",
        "for i, e in enumerate(sorted(lst)):\n",
        "  if i >= e:\n",
        "    elements.append(e)\n",
        "    \n",
        "print(elements)"
      ]
    },
    {
      "cell_type": "markdown",
      "metadata": {
        "id": "7-8QxybDjaWk"
      },
      "source": [
        "---\n",
        "\n",
        "### Задача 8: Длина ломаной\n",
        "Вычислите длину ломаной в евклидовой метрике $d((x_1, y_1), (x_2, y_2)) = \\sqrt{(x_1 - x_2)^2 + ( y_1 - y_2)^2 }$. Результат выведите с точностью до двух знаков после запятой. \n",
        "\n",
        "&nbsp;\n",
        "\n",
        "#### **Формат входных данных:**\n",
        "* В первой строчке координаты точек по оси абсцисс -  список из целых чисел, разделенных пробелом. \n",
        "* Во второй строчке координаты точек по оси ординат -  список из целых чисел, разделенных пробелом.\n",
        " \n",
        "#### **Формат выходных данных:**\n",
        "* Длина с точностью до двух знаков.\n",
        "\n",
        "&nbsp;\n",
        "\n",
        "---\n",
        "\n",
        "#### **Пример входа:**\n",
        "0 1 2 3 4 5\n",
        "\n",
        "0 1 2 3 4 5\n",
        "\n",
        "#### **Результат работы:**\n",
        "7.07\n",
        "\n",
        "---"
      ]
    },
    {
      "cell_type": "code",
      "execution_count": null,
      "metadata": {
        "id": "bFjfvch5jXeW"
      },
      "outputs": [],
      "source": [
        "# Примеры ввода\n",
        "\n",
        "example_8_1 = (\"0 1 2 3 4 5\", \"0 1 2 3 4 5\")"
      ]
    },
    {
      "cell_type": "code",
      "execution_count": null,
      "metadata": {
        "id": "m4F4gSX5fiz7"
      },
      "outputs": [],
      "source": [
        "# Решение\n",
        "\n",
        "xs = list(map(int, input().split()))\n",
        "ys = list(map(int, input().split()))\n",
        "x_diff = [xs[i] - xs[i-1] for i in range(1, len(xs))]\n",
        "y_diff = [ys[i] - ys[i-1] for i in range(1, len(ys))]\n",
        "length = 0\n",
        "\n",
        "for (x, y) in zip(x_diff, y_diff):\n",
        "  length += (x**2 + y**2) ** 0.5\n",
        "\n",
        "print('{:.2f}'.format(length))"
      ]
    },
    {
      "cell_type": "markdown",
      "metadata": {
        "id": "uoCxbDP3meh_"
      },
      "source": [
        "---\n",
        "\n",
        "### Задача 9: Обход поликлиник\n",
        "Старушка Клавдия Аристарховна заботится о своем здоровье и регулярно посещает поликлиники, проводя там по нескольку часов. Чтобы улучшить качество получаемого медобслуживания, она собрала своих подруг и записала где и сколько каждая из них проводит времени. Свои наблюдения она записала в матрицу, где элемент `matrix[i,j]` означает количество времени, которая подруга под номером `i` провела в клинике под номером `j`. Поскольку Клавдия Аристарховна уверена, что чем дольше сидишь в клинике, тем лучше лечат, то ей нужно найти клинику, в которой ее боевые подруги провели меньше всего времени, чтобы она могла написать жалобу в министерство здравоохранения. Помогите несчастной старушке.\n",
        "\n",
        "**NOTE:** В этой задаче Вам необходимо только реализовать функцию, которая вернет нужный результат. Команды print и input Вам не потребуются.\n",
        "\n",
        "\n",
        "\n"
      ]
    },
    {
      "cell_type": "code",
      "execution_count": null,
      "metadata": {
        "id": "j8BudZUpq-G_"
      },
      "outputs": [],
      "source": [
        "# Решение\n",
        "\n",
        "def find_worst_clinic(matrix):\n",
        "  clinics = [0] * len(matrix[0])\n",
        "  for grandma in matrix:\n",
        "    for j, time in enumerate(grandma):\n",
        "        clinics[j] += time\n",
        "  index = 0\n",
        "  min_time = clinics[0]\n",
        "  for i, time in enumerate(clinics):\n",
        "    if time < min_time:\n",
        "      index = i\n",
        "      min_time = time\n",
        "  return index"
      ]
    },
    {
      "cell_type": "code",
      "execution_count": null,
      "metadata": {
        "colab": {
          "base_uri": "https://localhost:8080/"
        },
        "id": "gz4MWxBUsWyb",
        "outputId": "6b4b3b72-b2db-4e49-87a9-a34f62867b5b"
      },
      "outputs": [
        {
          "name": "stdout",
          "output_type": "stream",
          "text": [
            "4\n",
            "4\n",
            "1\n",
            "0\n",
            "6\n"
          ]
        }
      ],
      "source": [
        "# Конечный код\n",
        "\n",
        "for s in range(1, 6):\n",
        "  if s == 1:\n",
        "    m = [[19, 16,  9, 10,  8, 12,  7,  7,  8, 16],\n",
        "        [23,  4, 20,  3,  8,  5,  6, 18, 18,  5],\n",
        "        [18, 17, 20, 17,  2, 14, 14,  8, 10,  2],\n",
        "        [ 4, 13, 21, 19, 10, 10,  6,  7,  9,  1],\n",
        "        [20, 16,  2, 13, 11,  6,  1, 17, 13, 18],\n",
        "        [ 9,  5,  6, 15,  3,  6, 22,  6, 15,  4],\n",
        "        [16,  7,  7, 21,  4,  5, 11, 19,  5, 17],\n",
        "        [ 5, 14, 14,  5,  6, 19,  7, 19, 17,  5],\n",
        "        [17,  4,  2, 19, 20, 18, 23,  3, 13, 16],\n",
        "        [15,  4,  4,  5, 10, 21, 12,  7, 11, 16]]\n",
        "  if s == 2:\n",
        "    m = [[21, 13, 10, 13, 22,  3, 19,  1, 15,  3],\n",
        "        [ 9, 13, 16, 12,  2, 12, 22, 16, 16, 13],\n",
        "        [ 4, 11, 14,  7, 11, 16, 17,  5, 13, 18],\n",
        "        [12,  9,  4, 13,  6, 16, 18, 12, 10,  5],\n",
        "        [20,  2, 15,  5,  4,  3, 23, 14, 20,  6],\n",
        "        [ 7, 17,  6, 13,  7,  8, 21, 10, 16,  2],\n",
        "        [23, 11,  4,  8,  8, 19,  4,  6,  5, 21],\n",
        "        [11, 11,  2, 18,  8, 14,  3, 16, 10,  5],\n",
        "        [ 5,  3, 12, 21,  8,  8,  6, 10, 14, 22],\n",
        "        [23,  6, 21, 23, 17,  9, 20,  8, 19,  2]]\n",
        "  if s == 3:\n",
        "    m = [[ 6,  2, 16, 21,  9, 17, 14,  4,  9, 23],\n",
        "        [17,  1, 23,  4,  6,  6, 11,  2, 13, 18],\n",
        "        [12,  9,  7,  7, 10, 12,  5, 15,  1,  6],\n",
        "        [ 7,  5,  1, 11, 19,  5, 11, 15,  2, 12],\n",
        "        [ 3,  6, 16,  9, 10, 14, 22, 22,  6,  3],\n",
        "        [ 2, 12, 21,  4,  4, 18,  8, 19,  8, 22],\n",
        "        [19,  5, 11, 11,  1, 18,  7, 18, 20,  1],\n",
        "        [21, 15, 10, 14, 23,  5,  8, 17, 17, 15],\n",
        "        [ 6,  4,  7, 23, 18,  5,  1, 16,  9, 11],\n",
        "        [ 7, 16, 19,  7, 13, 18,  7,  3,  7, 23]]\n",
        "  if s == 4:\n",
        "    m = [[ 9,  6,  8, 14, 22,  6,  4, 18, 11,  3],\n",
        "        [ 9,  6, 20, 16,  8,  2,  3, 20,  5,  4],\n",
        "        [15, 11,  8, 19,  2, 17,  5, 12, 21, 14],\n",
        "        [ 8, 19,  2,  2, 13, 12, 10,  4, 19, 22],\n",
        "        [ 6, 15,  9,  8, 19,  6, 20,  1, 21,  3],\n",
        "        [ 2, 18,  5,  8, 19, 12,  7, 20,  5, 16],\n",
        "        [13,  1, 11,  4,  7, 22,  6, 16, 19,  9],\n",
        "        [ 2, 12, 21, 11, 15, 20, 17, 11, 11, 19],\n",
        "        [ 6, 21,  2,  5, 20, 13, 13, 14, 15,  1],\n",
        "        [11,  7,  3, 17,  8, 18, 13,  9,  9, 19]]\n",
        "  if s == 5:\n",
        "    m = [[ 6, 16, 16,  9, 20, 18,  8, 21, 17,  3],\n",
        "        [19, 13, 18,  4, 19,  9,  2, 21, 23,  3],\n",
        "        [20,  6,  2, 11, 14, 11, 21, 12, 23, 18],\n",
        "        [22,  1, 19,  2,  6,  3,  9,  6, 11, 19],\n",
        "        [12, 21,  7,  6, 22, 20, 11,  5,  3, 23],\n",
        "        [ 3,  4, 21, 22,  9,  1, 10,  5, 21, 11],\n",
        "        [ 9,  8, 13, 17,  3,  6,  8, 13, 23, 16],\n",
        "        [12, 13, 16, 13, 23,  2,  3,  9,  7, 18],\n",
        "        [11, 18, 15,  9, 20,  7, 21, 10, 20, 15],\n",
        "        [ 5, 22,  4, 18, 18, 19,  1,  5, 17, 20]]\n",
        "  print(find_worst_clinic(m))"
      ]
    },
    {
      "cell_type": "markdown",
      "metadata": {
        "id": "cGFf_JLou92e"
      },
      "source": [
        "---\n",
        "\n",
        "### Задача 10: Наибольший модуль \n",
        "Найдите в списке два элемента, произведение которых является наибольшим по модулю.\n",
        "\n",
        "&nbsp;\n",
        "\n",
        "#### **Формат входных данных:**\n",
        "* Программа получает на вход список целых чисел, разделенных пробелами.  \n",
        " \n",
        "#### **Формат выходных данных:**\n",
        "* Программа должна вывести наибольшее по модулю произведение двух элементов.\n",
        "\n",
        "&nbsp;\n",
        "\n",
        "---\n",
        "\n",
        "#### **Пример входа:**\n",
        "0 1 2 3 4 5\n",
        "\n",
        "#### **Результат работы:**\n",
        "20\n",
        "\n",
        "---\n",
        "\n",
        "#### **Пример входа:**\n",
        "-10 -20 1 5 20\n",
        "\n",
        "#### **Результат работы:**\n",
        "-400\n",
        "\n",
        "---"
      ]
    },
    {
      "cell_type": "code",
      "execution_count": null,
      "metadata": {
        "id": "78vnoQSb8Tuo"
      },
      "outputs": [],
      "source": [
        "# Примеры ввода\n",
        "\n",
        "example_10_1 = \"0 1 2 3 4 5\"\n",
        "example_10_2 = \"-10 -20 1 5 20\""
      ]
    },
    {
      "cell_type": "code",
      "execution_count": null,
      "metadata": {
        "id": "4L7ALt-uvp_f"
      },
      "outputs": [],
      "source": [
        "# Решение \n",
        "\n",
        "lst = list(map(int, input().split()))\n",
        "\n",
        "sorted_lst = sorted(lst, key=abs)\n",
        "\n",
        "print(sorted_lst[-1] * sorted_lst[-2])"
      ]
    },
    {
      "cell_type": "markdown",
      "metadata": {
        "id": "xCwOTk64yOtI"
      },
      "source": [
        "---\n",
        "\n",
        "### Задача 11: Буквенное расстояние \n",
        "Определим буквенное расстояние между двумя строками как сумму модулей разностей количества вхождений букв между ними. Найдите буквенное расстояниеи между двумя строками.\n",
        "\n",
        "&nbsp;\n",
        "\n",
        "#### **Формат входных данных:**\n",
        "* Программа получает на вход две строки.\n",
        " \n",
        "#### **Формат выходных данных:**\n",
        "* Натуральное число – буквенное расстояние между строками.\n",
        "\n",
        "&nbsp;\n",
        "\n",
        "---\n",
        "\n",
        "#### **Пример входа:**\n",
        "'abcde'\n",
        "\n",
        "'aaaee'\n",
        "\n",
        "#### **Результат работы:**\n",
        "6\n",
        "\n",
        "---\n",
        "\n",
        "#### **NOTE:**\n",
        "Буквы a, b, c ,d ,e входят в первую строку по одному разу. Во вторую строку входят 3 буквы a и 2 буквы e. \n",
        "Тогда буквенное расстояние равно (3 - 1) + (1 - 0) + (1 - 0) + (1 - 0) + (2 - 1) = 6\n",
        "\n"
      ]
    },
    {
      "cell_type": "code",
      "execution_count": null,
      "metadata": {
        "id": "C6AOwVZq9BYv"
      },
      "outputs": [],
      "source": [
        "# Примеры ввода\n",
        "\n",
        "example_11_1 = ('abcde', 'aaaee')"
      ]
    },
    {
      "cell_type": "code",
      "execution_count": null,
      "metadata": {
        "id": "_vyJ-tIu6pqV"
      },
      "outputs": [],
      "source": [
        "# Решение\n",
        "\n",
        "s1 = input()\n",
        "s2 = input()\n",
        "from collections import defaultdict\n",
        "d = defaultdict(int)\n",
        "\n",
        "for c in s1:\n",
        "  d[c] += 1\n",
        "for c in s2:\n",
        "  d[c] -= 1\n",
        "\n",
        "print(sum(map(abs, d.values())))"
      ]
    },
    {
      "cell_type": "markdown",
      "metadata": {
        "id": "lAOK5F-q9O_0"
      },
      "source": [
        "---"
      ]
    }
  ],
  "metadata": {
    "colab": {
      "provenance": []
    },
    "kernelspec": {
      "display_name": "Python 3",
      "language": "python",
      "name": "python3"
    },
    "language_info": {
      "codemirror_mode": {
        "name": "ipython",
        "version": 3
      },
      "file_extension": ".py",
      "mimetype": "text/x-python",
      "name": "python",
      "nbconvert_exporter": "python",
      "pygments_lexer": "ipython3",
      "version": "3.8.3"
    }
  },
  "nbformat": 4,
  "nbformat_minor": 0
}